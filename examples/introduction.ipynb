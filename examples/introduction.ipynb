{
 "cells": [
  {
   "cell_type": "markdown",
   "metadata": {},
   "source": [
    "# A Brief Introduction\n",
    "\n",
    "This notebook will guide you though several examples that demonstrate how you can use `idom` to create interactive interfaces for websites, analytic dashboard, and so much more. We'll learn the basics of user interaction by creating a simple slideshow, but move on to creating games and plots with [Matplotlib](https://matplotlib.org):\n",
    "\n",
    "1. [Slideshows and Basic Interactivity](#Slideshows-and-User-Interaction)\n",
    "\n",
    "2. [Plotting with Matplotlib](#Plotting-with-Matplotlib)\n",
    "\n",
    "3. [The Game Snake](#The-Game-Snake)"
   ]
  },
  {
   "cell_type": "code",
   "execution_count": null,
   "metadata": {},
   "outputs": [],
   "source": [
    "import idom"
   ]
  },
  {
   "cell_type": "markdown",
   "metadata": {},
   "source": [
    "### A Little Set Up\n",
    "\n",
    "Since you may be running this notebook on [mybinder.org](https://mybinder.org) we have to do a little bit of work to make sure that your frontend view connects to the right URL. You shouldn't have to change anything here. Be sure to [post an issue](https://github.com/rmorshea/idom/issues) if you experience any problems. "
   ]
  },
  {
   "cell_type": "code",
   "execution_count": null,
   "metadata": {},
   "outputs": [],
   "source": [
    "from example_utils import localhost, pretty_dict_string\n",
    "\n",
    "webpage_url = localhost('http', 8765) + '/idom/client/index.html'\n",
    "websocket_url = localhost('ws', 8765) + '/idom/stream'\n",
    "\n",
    "show, element = idom.hotswap()\n",
    "idom.SimpleServer(element).daemon(\"0.0.0.0\", 8765, access_log=False)"
   ]
  },
  {
   "cell_type": "markdown",
   "metadata": {},
   "source": [
    "# Slideshows and User Interaction\n",
    "\n",
    "Let's use iDOM to create a simple slideshow which changes whenever a user clicks an image. To do this we define a function called `Slideshow` which will return an `<img/>` element. Attached to this `<img/>` is a handler for `onClick` events created whenever a user clicks the image."
   ]
  },
  {
   "cell_type": "code",
   "execution_count": null,
   "metadata": {},
   "outputs": [],
   "source": [
    "@idom.element\n",
    "async def Slideshow(self, index=0):\n",
    "    events = idom.Events()\n",
    "\n",
    "    @events.on(\"click\")\n",
    "    async def change():\n",
    "        self.update(index + 1)\n",
    "\n",
    "    url = f\"https://picsum.photos/800/300?image={index}\"\n",
    "    return idom.node(\"img\", src=url, eventHandlers=events)"
   ]
  },
  {
   "cell_type": "markdown",
   "metadata": {},
   "source": [
    "## Try it Out!\n",
    "\n",
    "The following cells will display the output here. However you can also see the same thing in a standard web page:"
   ]
  },
  {
   "cell_type": "code",
   "execution_count": null,
   "metadata": {},
   "outputs": [],
   "source": [
    "print('Get a webpage that streams layout updates via a websocket:')\n",
    "print(webpage_url)"
   ]
  },
  {
   "cell_type": "markdown",
   "metadata": {},
   "source": [
    "If you just want to see it here run the cell below..."
   ]
  },
  {
   "cell_type": "code",
   "execution_count": null,
   "metadata": {},
   "outputs": [],
   "source": [
    "print(\"Try clicking the image! 🖱️\")\n",
    "\n",
    "show(Slideshow)\n",
    "\n",
    "idom.display(\"jupyter\", websocket_url)"
   ]
  },
  {
   "cell_type": "markdown",
   "metadata": {},
   "source": [
    "## What Just Happened?\n",
    "\n",
    "At the core of iDOM are simple dictionary structures that model an HTML layout.\n",
    "\n",
    "To help you understand what's happening let's see what this dictionary model looks like:"
   ]
  },
  {
   "cell_type": "code",
   "execution_count": null,
   "metadata": {},
   "outputs": [],
   "source": [
    "slideshow = Slideshow()\n",
    "model = await slideshow.render()\n",
    "print(pretty_dict_string(model))"
   ]
  },
  {
   "cell_type": "markdown",
   "metadata": {},
   "source": [
    "This will render the following HTML\n",
    "\n",
    "```html\n",
    "<img src='https://picsum.photos/800/300?image={index}' onClick={slideshow-change-callback}/>\n",
    "```\n",
    "\n",
    "Where each time the user clicks the rendered image:\n",
    "\n",
    "1. The `slideshow-change-callback` is triggered and calls `change()`\n",
    "\n",
    "2. The `change()` function then tells the `Slideshow` element to update with a new `{index}`.\n",
    "\n",
    "3. A new image is rendered for the user with the updated `src` index."
   ]
  },
  {
   "cell_type": "markdown",
   "metadata": {},
   "source": [
    "# Plotting with Matplotlib\n",
    "\n",
    "The following example shows how you might create a matplotlib plot which can be updated based on user interactions. In this simple case the plot updates each time a user clicks on the graph, however you can imaging more complex scenarios in which users select datasets from drop down menus or interact with sliders."
   ]
  },
  {
   "cell_type": "code",
   "execution_count": null,
   "metadata": {},
   "outputs": [],
   "source": [
    "from matplotlib import pyplot as plt"
   ]
  },
  {
   "cell_type": "markdown",
   "metadata": {},
   "source": [
    "At the moment `idom` doesn't have native support for matplotlib plots, however you can still render an image by:\n",
    "\n",
    "1. Creating an `Image` element with some format (e.g. SVG).\n",
    "\n",
    "2. Calling a figure's `savefig` method and writing to the `Image.io` attribute."
   ]
  },
  {
   "cell_type": "code",
   "execution_count": null,
   "metadata": {},
   "outputs": [],
   "source": [
    "import random\n",
    "\n",
    "\n",
    "@idom.element\n",
    "async def Figure(self):\n",
    "    x, y = random_walk(200)\n",
    "    img = plot(x, y)\n",
    "\n",
    "    events = idom.Events()\n",
    "    \n",
    "    @events.on(\"click\")\n",
    "    async def scramble():\n",
    "        self.update()\n",
    "\n",
    "    return idom.html.div(img, eventHandlers=events)\n",
    "\n",
    "\n",
    "def plot(*args, **kwargs):\n",
    "    fig, axes = plt.subplots()\n",
    "    axes.plot(*args, **kwargs)\n",
    "    img = idom.Image(\"svg\")\n",
    "    fig.savefig(img.io, format=\"svg\")\n",
    "    plt.close(fig)\n",
    "    return img\n",
    "\n",
    "\n",
    "def random_walk(n):\n",
    "    y = []\n",
    "    current = 0\n",
    "    x = range(n)\n",
    "    for _ in range(len(x)):\n",
    "        current += (random.random() - 0.5)\n",
    "        y.append(current)\n",
    "    return x, y"
   ]
  },
  {
   "cell_type": "markdown",
   "metadata": {},
   "source": [
    "## Try it Out"
   ]
  },
  {
   "cell_type": "code",
   "execution_count": null,
   "metadata": {},
   "outputs": [],
   "source": [
    "print(\"Try clicking the plot! 📈\")\n",
    "\n",
    "show(Figure)\n",
    "\n",
    "idom.display(\"jupyter\", websocket_url)"
   ]
  },
  {
   "cell_type": "markdown",
   "metadata": {},
   "source": [
    "# The Game Snake\n",
    "\n",
    "Ok, let's take a look at something a little more complicated."
   ]
  },
  {
   "cell_type": "code",
   "execution_count": null,
   "metadata": {},
   "outputs": [],
   "source": [
    "import enum\n",
    "import time\n",
    "import random\n",
    "import asyncio\n",
    "\n",
    "\n",
    "class WASD(enum.Enum):\n",
    "    w = (-1, 0)\n",
    "    a = (0, -1)\n",
    "    s = (1, 0)\n",
    "    d = (0, 1)\n",
    "\n",
    "\n",
    "@idom.element(state=\"grid_size, block_size\")\n",
    "async def Game(self, grid_size, block_size):\n",
    "    game = idom.StaticBunch(\n",
    "        snake=[],\n",
    "        grid=Grid(grid_size, block_size),\n",
    "        new_direction=idom.Var(WASD.d),\n",
    "        old_direction=idom.Var(WASD.d),\n",
    "        food=idom.Var(None),\n",
    "        won=idom.Var(False),\n",
    "        lost=idom.Var(False),\n",
    "    )\n",
    "\n",
    "    @game.grid.eventHandlers.on(\"KeyDown\")\n",
    "    async def direction_change(key):\n",
    "        if hasattr(WASD, key):\n",
    "            game.new_direction.set(WASD[key])\n",
    "\n",
    "    game.snake.extend([\n",
    "        (grid_size // 2 - 1, grid_size // 2 - 3),\n",
    "        (grid_size // 2 - 1, grid_size // 2 - 2),\n",
    "        (grid_size // 2 - 1, grid_size // 2 - 1),\n",
    "    ])\n",
    "\n",
    "    grid_points = set((x, y) for x in range(grid_size) for y in range(grid_size))\n",
    "\n",
    "    def set_new_food():\n",
    "        points_not_in_snake = grid_points.difference(game.snake)\n",
    "        new_food = random.choice(list(points_not_in_snake))\n",
    "        get_grid_block(game.grid, new_food).update(\"blue\")\n",
    "        game.food.set(new_food)\n",
    "\n",
    "    @self.animate\n",
    "    async def loop():\n",
    "        if game.won.get() or game.lost.get():\n",
    "            self.update()\n",
    "            await asyncio.sleep(1)\n",
    "        else:\n",
    "            await draw(game, grid_size, set_new_food)\n",
    "            self.animate(loop)\n",
    "\n",
    "    set_new_food()\n",
    "    return game.grid\n",
    "\n",
    "\n",
    "async def draw(game, grid_size, set_new_food):\n",
    "    start = time.time()\n",
    "    \n",
    "    if game.snake[-1] in game.snake[:-1]:\n",
    "        # point out where you touched\n",
    "        get_grid_block(game.grid, game.snake[-1]).update(\"red\")\n",
    "        game.lost.set(True)\n",
    "        return\n",
    "\n",
    "    vector_sum = tuple(map(sum, zip(\n",
    "        game.old_direction.get().value,\n",
    "        game.new_direction.get().value\n",
    "    )))\n",
    "    if vector_sum != (0, 0):\n",
    "        game.old_direction.set(game.new_direction.get())\n",
    "\n",
    "    new_head = (\n",
    "        # grid wraps due to mod op here\n",
    "        (game.snake[-1][0] + game.old_direction.get().value[0]) % grid_size,\n",
    "        (game.snake[-1][1] + game.old_direction.get().value[1]) % grid_size,\n",
    "    )\n",
    "\n",
    "    game.snake.append(new_head)\n",
    "\n",
    "    if new_head == game.food.get():\n",
    "        if len(game.snake) == grid_size * grid_size:\n",
    "            game.won.set(True)\n",
    "            return\n",
    "        set_new_food()\n",
    "    else:\n",
    "        get_grid_block(game.grid, game.snake.pop(0)).update(\"white\")\n",
    "    \n",
    "    # update head after tail - new head may be the same as the old tail\n",
    "    get_grid_block(game.grid, new_head).update(\"black\")\n",
    "\n",
    "    stop = time.time()\n",
    "    await asyncio.sleep(0.5 - (start - stop))\n",
    "\n",
    "\n",
    "def Grid(grid_size, block_size):\n",
    "    return idom.html.div(\n",
    "        [\n",
    "            idom.html.div(\n",
    "                [Block(\"white\", block_size) for i in range(grid_size)],\n",
    "                style={\"height\": block_size},\n",
    "            )\n",
    "            for i in range(grid_size)\n",
    "        ],\n",
    "        style={\n",
    "            \"height\": f\"{block_size * grid_size}px\",\n",
    "            \"width\": f\"{block_size * grid_size}px\",\n",
    "        },\n",
    "        eventHandlers=idom.Events(),\n",
    "        tabIndex=-1,\n",
    "    )\n",
    "\n",
    "\n",
    "@idom.element(state=\"block_size\")\n",
    "async def Block(self, color, block_size):\n",
    "    return idom.html.div(\n",
    "        style={\n",
    "            \"height\": f\"{block_size}px\",\n",
    "            \"width\": f\"{block_size}px\",\n",
    "            \"backgroundColor\": color,\n",
    "            \"display\": \"inline-block\",\n",
    "            \"border\": \"1px solid white\",\n",
    "        }\n",
    "    )\n",
    "\n",
    "\n",
    "def get_grid_block(grid, point):\n",
    "    x, y = point\n",
    "    return grid[\"children\"][x][\"children\"][y]"
   ]
  },
  {
   "cell_type": "code",
   "execution_count": null,
   "metadata": {},
   "outputs": [],
   "source": [
    "print(\"Click to start playing 🎮\")\n",
    "print()\n",
    "print(\"Slow internet may cause inconsistent frame pacing 😢\")\n",
    "\n",
    "show(Game, 15, 30)\n",
    "\n",
    "idom.display(\"jupyter\", websocket_url)"
   ]
  },
  {
   "cell_type": "code",
   "execution_count": null,
   "metadata": {},
   "outputs": [],
   "source": []
  }
 ],
 "metadata": {
  "kernelspec": {
   "display_name": "Python 3",
   "language": "python",
   "name": "python3"
  },
  "language_info": {
   "codemirror_mode": {
    "name": "ipython",
    "version": 3
   },
   "file_extension": ".py",
   "mimetype": "text/x-python",
   "name": "python",
   "nbconvert_exporter": "python",
   "pygments_lexer": "ipython3",
   "version": "3.6.8"
  }
 },
 "nbformat": 4,
 "nbformat_minor": 2
}
