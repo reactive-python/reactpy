{
 "cells": [
  {
   "cell_type": "markdown",
   "metadata": {},
   "source": [
    "# iDOM - A Brief Introduction\n",
    "\n",
    "iDOM is an easily installable and powerful Python package for:\n",
    "\n",
    "- Making responsive user interfaces with pure Python\n",
    "\n",
    "- Doing so with a declarative decorator-based API\n",
    "\n",
    "- And rendering those layouts on the web or in Jupyter Notebooks\n",
    "\n",
    "\n",
    "# This Notebook\n",
    "\n",
    "Will guide you though the basics of iDOM through several examples:\n",
    "\n",
    "1. [Slideshows - Basic Interactivity](#Slideshows---Basic-Interactivity)\n",
    "\n",
    "2. [Plotting with Matplotlib](#Plotting-with-Matplotlib)\n",
    "\n",
    "4. [To Do Lists - More on Interactivity](#To-Do-Lists---More-on-Interactivity)\n",
    "\n",
    "3. [The Game Snake - Using What We've Learned](#The-Game-Snake---Using-What-We've-Learned)\n",
    "\n",
    "\n",
    "## Where Can You Learn More?\n",
    "\n",
    "Go to https://github.com/rmorshea/idom for:\n",
    "\n",
    "- more documentation\n",
    "\n",
    "- installation instructions\n",
    "\n",
    "- trouble shooting support\n"
   ]
  },
  {
   "cell_type": "code",
   "execution_count": null,
   "metadata": {},
   "outputs": [],
   "source": [
    "import idom"
   ]
  },
  {
   "cell_type": "markdown",
   "metadata": {},
   "source": [
    "### A Little Set Up\n",
    "\n",
    "Since you may be running this notebook on [mybinder.org](https://mybinder.org) we have to do a little bit of work to make sure that your frontend view connects to the right URL. You shouldn't have to change anything here. Be sure to [post an issue](https://github.com/rmorshea/idom/issues) if you experience any problems. "
   ]
  },
  {
   "cell_type": "code",
   "execution_count": null,
   "metadata": {},
   "outputs": [],
   "source": [
    "from idom.server.sanic import PerClientState\n",
    "from example_utils import localhost, pretty_dict_string\n",
    "\n",
    "webpage_url = localhost('http', 8765) + '/client/index.html'\n",
    "websocket_url = localhost('ws', 8765) + '/stream'\n",
    "\n",
    "show, element = idom.hotswap()\n",
    "PerClientState(element).daemon(\"0.0.0.0\", 8765, access_log=False)"
   ]
  },
  {
   "cell_type": "markdown",
   "metadata": {},
   "source": [
    "# Slideshows - Basic Interactivity\n",
    "\n",
    "Let's use iDOM to create a simple slideshow which changes whenever a user clicks an image. To do this we define a function called `Slideshow` which will return an `<img/>` element. Attached to this `<img/>` is a handler for `onClick` events created whenever a user clicks the image."
   ]
  },
  {
   "cell_type": "code",
   "execution_count": null,
   "metadata": {},
   "outputs": [],
   "source": [
    "@idom.element\n",
    "async def Slideshow(self, index=0):\n",
    "    events = idom.Events()\n",
    "\n",
    "    @events.on(\"Click\")\n",
    "    async def change():\n",
    "        self.update(index + 1)\n",
    "\n",
    "    url = f\"https://picsum.photos/800/300?image={index}\"\n",
    "    return idom.node(\"img\", src=url, eventHandlers=events)"
   ]
  },
  {
   "cell_type": "markdown",
   "metadata": {},
   "source": [
    "## Try it Out!\n",
    "\n",
    "The following cells will display the output here. However you can also see the same thing in a standard web page:"
   ]
  },
  {
   "cell_type": "code",
   "execution_count": null,
   "metadata": {},
   "outputs": [],
   "source": [
    "print('Get a webpage that streams layout updates via a websocket:')\n",
    "print(webpage_url)"
   ]
  },
  {
   "cell_type": "markdown",
   "metadata": {},
   "source": [
    "If you just want to see it here run the cell below..."
   ]
  },
  {
   "cell_type": "code",
   "execution_count": null,
   "metadata": {},
   "outputs": [],
   "source": [
    "print(\"Try clicking the image! 🖱️\")\n",
    "\n",
    "show(Slideshow)\n",
    "\n",
    "idom.display(\"jupyter\", websocket_url)"
   ]
  },
  {
   "cell_type": "markdown",
   "metadata": {},
   "source": [
    "## What Just Happened?\n",
    "\n",
    "At the core of iDOM are simple dictionary structures that model an HTML layout.\n",
    "\n",
    "To help you understand what's happening let's see what this dictionary model looks like:"
   ]
  },
  {
   "cell_type": "code",
   "execution_count": null,
   "metadata": {},
   "outputs": [],
   "source": [
    "slideshow = Slideshow()\n",
    "model = await slideshow.render()\n",
    "print(pretty_dict_string(model))"
   ]
  },
  {
   "cell_type": "markdown",
   "metadata": {},
   "source": [
    "This will render the following HTML\n",
    "\n",
    "```html\n",
    "<img src='https://picsum.photos/800/300?image={index}' onClick={slideshow-change-callback}/>\n",
    "```\n",
    "\n",
    "Where each time the user clicks the rendered image:\n",
    "\n",
    "1. The `slideshow-change-callback` is triggered and calls `change()`\n",
    "\n",
    "2. The `change()` function then tells the `Slideshow` element to update with a new `{index}`.\n",
    "\n",
    "3. A new image is rendered for the user with the updated `src` index."
   ]
  },
  {
   "cell_type": "markdown",
   "metadata": {},
   "source": [
    "# Plotting with Matplotlib\n",
    "\n",
    "The following example shows how you might create an animated matplotlib plot of 1D [Brownian Motion](https://en.wikipedia.org/wiki/Brownian_motion). Matplotlib provides similar functionality natively, though with the limitation that all the frames of the animation are pre-computed. At the moment `idom` doesn't have native support for matplotlib, but you can still render them by:\n",
    "\n",
    "1. Creating an `Image` element with some format (e.g. SVG).\n",
    "\n",
    "2. Calling a figure's `savefig` method and writing to the `Image.io` attribute."
   ]
  },
  {
   "cell_type": "code",
   "execution_count": null,
   "metadata": {},
   "outputs": [],
   "source": [
    "%matplotlib agg\n",
    "from matplotlib import pyplot as plt"
   ]
  },
  {
   "cell_type": "markdown",
   "metadata": {},
   "source": [
    "## New Feature - Animation Callback\n",
    "\n",
    "The animation callback is a special hook registered by decorating a function with `self.animate` upon rendering an element. This hook is called repeatedly each time a render takes place allowing you to update a view without having to wait for user interaction.\n",
    "\n",
    "In the case of our plot we use it to step through"
   ]
  },
  {
   "cell_type": "code",
   "execution_count": null,
   "metadata": {},
   "outputs": [],
   "source": [
    "import time\n",
    "import asyncio\n",
    "import random\n",
    "\n",
    "\n",
    "@idom.element\n",
    "async def RandomWalk(self):\n",
    "    x, y = [0] * 50, [0] * 50\n",
    "    plot = Plot(x, y)\n",
    "\n",
    "    @self.animate(rate=0.3)\n",
    "    async def walk():\n",
    "        x.pop(0)\n",
    "        x.append(x[-1] + 1)\n",
    "        y.pop(0)\n",
    "        y.append(y[-1] + random.gauss(0, 0.5))\n",
    "        plot.update(x, y)\n",
    "\n",
    "    return plot\n",
    "\n",
    "@idom.element\n",
    "async def Plot(self, x, y):\n",
    "    fig, axes = plt.subplots()\n",
    "    axes.plot(x, y)\n",
    "    img = idom.Image(\"svg\")\n",
    "    fig.savefig(img.io, format=\"svg\")\n",
    "    plt.close(fig)\n",
    "    return img"
   ]
  },
  {
   "cell_type": "markdown",
   "metadata": {},
   "source": [
    "## Try it Out"
   ]
  },
  {
   "cell_type": "code",
   "execution_count": null,
   "metadata": {
    "scrolled": false
   },
   "outputs": [],
   "source": [
    "print(\"Try clicking the plot! 📈\")\n",
    "\n",
    "show(RandomWalk)\n",
    "\n",
    "idom.display(\"jupyter\", websocket_url)"
   ]
  },
  {
   "cell_type": "markdown",
   "metadata": {},
   "source": [
    "# To Do Lists - More on Interactivity\n",
    "\n",
    "So far we've created event handlers which respond to simpler events like clicks, but often we want to track more complicated events. In this example we'll create a to-do list. To accomplish this goal we'll need to accept user inputs and track key presses. Let's take a look at the `Events` API in more depths to learn how. Consider this generalized definition of an event handler:\n",
    "\n",
    "```python\n",
    "events = idom.Events()\n",
    "\n",
    "@events.on(\"EventName\", using=\"y: path.to.value\")\n",
    "def handler(x, y):\n",
    "    # respond to the event somehow\n",
    "    ....\n",
    "```\n",
    "\n",
    "Here we see the decorator syntax for defining events we're familiar with, however there are some differences:\n",
    "\n",
    "1. **The `handler` accepts arguments `x, y`**\n",
    "\n",
    "The arguments of the `handler` function are used to refer to attributes of [event objects](https://reactjs.org/docs/events.html#supported-events) produced by user interactions. For example consider [keyboard events](https://reactjs.org/docs/events.html#keyboard-events) they have attributes like `key` which is the name of the current key being pressed (e.g. \"ArrowLeft\", \"h\", or \"2\").\n",
    "\n",
    "2. **`events.on` defines `using` with a string that refers to an argument from `handler`**\n",
    "\n",
    "In a minority of cases you may need to access to information that's nested inside one of the event's own attributes. In the case of our to-do list we have an `<input/>` element and each time the user changes it we'd like to know what its contents are. Unfortunately the `onKeyDown` event has no attribute that can tell us this. Instead we need the current `value` of the event's `target`. To access this we declare:\n",
    "\n",
    "```python\n",
    "@event.on(\"KeyDown\", using=\"value=target.value\")\n",
    "def handler(value):\n",
    "    ...\n",
    "```\n",
    "\n",
    "Which will pass the `target.value` to the `value` argument of our `handler`\n",
    "\n",
    "\n",
    "## The Code"
   ]
  },
  {
   "cell_type": "code",
   "execution_count": null,
   "metadata": {},
   "outputs": [],
   "source": [
    "@idom.element\n",
    "async def Todo(self):\n",
    "    items = []\n",
    "\n",
    "    task_input = idom.html.input(eventHandlers=idom.Events())\n",
    "    task_list = TaskList(items)\n",
    "\n",
    "    @task_input.eventHandlers.on(\"KeyDown\", using=\"value=target.value\")\n",
    "    async def add_new_task(key, value):\n",
    "        if key == \"Enter\":\n",
    "            items.append(value)\n",
    "            task_list.update(items)\n",
    "\n",
    "    return idom.html.div(task_input, task_list)\n",
    "\n",
    "\n",
    "@idom.element\n",
    "async def TaskList(self, items):\n",
    "    tasks = []\n",
    "\n",
    "    for text in items:\n",
    "        task_text = idom.html.td(idom.html.p(text))\n",
    "        delete_button = idom.html.td(idom.html.button(\"x\"), eventHandlers=idom.Events())\n",
    "\n",
    "        @delete_button.eventHandlers.on(\"Click\")\n",
    "        async def remove(text=text):\n",
    "            for i, t in enumerate(items):\n",
    "                if t is text:\n",
    "                    del items[i]\n",
    "                    break\n",
    "            self.update(items)\n",
    "\n",
    "        tasks.append(idom.html.tr(task_text, delete_button))\n",
    "\n",
    "    return idom.node(\"table\", tasks)"
   ]
  },
  {
   "cell_type": "markdown",
   "metadata": {},
   "source": [
    "## Try it Out"
   ]
  },
  {
   "cell_type": "code",
   "execution_count": null,
   "metadata": {},
   "outputs": [],
   "source": [
    "print(\"Try typing in the text box and pressing 'Enter' 📋\")\n",
    "\n",
    "show(Todo)\n",
    "\n",
    "idom.display(\"jupyter\", websocket_url)"
   ]
  },
  {
   "cell_type": "markdown",
   "metadata": {},
   "source": [
    "# The Game Snake - Using What We've Learned\n",
    "\n",
    "To show off what's possible with iDOM, let's look at how to make the game Snake.\n",
    "\n",
    "\n",
    "## New Feature - Element State\n",
    "\n",
    "What's new here is the declaration of `state` when creating an `@element` function:\n",
    "\n",
    "```python\n",
    "@idom.element(state=\"x, y\")\n",
    "def MyElement(self, x, y):\n",
    "    ...\n",
    "```\n",
    "\n",
    "Each parameter of `MyElement` specified in `state` will have its value preserved across updates unless explicitely changed. So for example if we instantiated `MyElement(x=1, y=1)` and later called `self.update()` both `x` and `y` would be passed in as `1` again. However calling `self.update(y=2)` would cause `MyElement` to render with `x=1, y=2` instead. Calling `self.update(x=3)` once would have `MyElement` render with `x=3, y=2`.\n",
    "\n",
    "In our `Game` element we use this to preserve the original `grid_size` and `block_size` after the player loses and we need to reset the game."
   ]
  },
  {
   "cell_type": "code",
   "execution_count": null,
   "metadata": {},
   "outputs": [],
   "source": [
    "import enum\n",
    "import time\n",
    "import random\n",
    "import asyncio\n",
    "\n",
    "\n",
    "class WASD(enum.Enum):\n",
    "    w = (-1, 0)\n",
    "    a = (0, -1)\n",
    "    s = (1, 0)\n",
    "    d = (0, 1)\n",
    "\n",
    "\n",
    "@idom.element(state=\"grid_size, block_size\")\n",
    "async def Game(self, grid_size, block_size):\n",
    "    game = idom.Bunch(\n",
    "        snake=[],\n",
    "        grid=Grid(grid_size, block_size),\n",
    "        new_direction=idom.Var(WASD.d),\n",
    "        old_direction=idom.Var(WASD.d),\n",
    "        food=idom.Var(None),\n",
    "        won=idom.Var(False),\n",
    "        lost=idom.Var(False),\n",
    "    )\n",
    "\n",
    "    @game.grid.eventHandlers.on(\"KeyDown\")\n",
    "    async def direction_change(key):\n",
    "        if hasattr(WASD, key):\n",
    "            game.new_direction.set(WASD[key])\n",
    "\n",
    "    game.snake.extend(\n",
    "        [\n",
    "            (grid_size // 2 - 1, grid_size // 2 - 3),\n",
    "            (grid_size // 2 - 1, grid_size // 2 - 2),\n",
    "            (grid_size // 2 - 1, grid_size // 2 - 1),\n",
    "        ]\n",
    "    )\n",
    "\n",
    "    grid_points = set((x, y) for x in range(grid_size) for y in range(grid_size))\n",
    "\n",
    "    def set_new_food():\n",
    "        points_not_in_snake = grid_points.difference(game.snake)\n",
    "        new_food = random.choice(list(points_not_in_snake))\n",
    "        get_grid_block(game.grid, new_food).update(\"blue\")\n",
    "        game.food.set(new_food)\n",
    "\n",
    "    @self.animate(rate=0.5)\n",
    "    async def loop():\n",
    "        if game.won.get() or game.lost.get():\n",
    "            self.update()\n",
    "            await asyncio.sleep(1)\n",
    "            return False\n",
    "        else:\n",
    "            await draw(game, grid_size, set_new_food)\n",
    "\n",
    "    set_new_food()\n",
    "    return game.grid\n",
    "\n",
    "\n",
    "async def draw(game, grid_size, set_new_food):\n",
    "    if game.snake[-1] in game.snake[:-1]:\n",
    "        # point out where you touched\n",
    "        get_grid_block(game.grid, game.snake[-1]).update(\"red\")\n",
    "        game.lost.set(True)\n",
    "        return\n",
    "\n",
    "    vector_sum = tuple(\n",
    "        map(sum, zip(game.old_direction.get().value, game.new_direction.get().value))\n",
    "    )\n",
    "    if vector_sum != (0, 0):\n",
    "        game.old_direction.set(game.new_direction.get())\n",
    "\n",
    "    new_head = (\n",
    "        # grid wraps due to mod op here\n",
    "        (game.snake[-1][0] + game.old_direction.get().value[0]) % grid_size,\n",
    "        (game.snake[-1][1] + game.old_direction.get().value[1]) % grid_size,\n",
    "    )\n",
    "\n",
    "    game.snake.append(new_head)\n",
    "\n",
    "    if new_head == game.food.get():\n",
    "        if len(game.snake) == grid_size * grid_size:\n",
    "            game.won.set(True)\n",
    "            return\n",
    "        set_new_food()\n",
    "    else:\n",
    "        get_grid_block(game.grid, game.snake.pop(0)).update(\"white\")\n",
    "\n",
    "    # update head after tail - new head may be the same as the old tail\n",
    "    get_grid_block(game.grid, new_head).update(\"black\")\n",
    "\n",
    "\n",
    "def Grid(grid_size, block_size):\n",
    "    return idom.html.div(\n",
    "        [\n",
    "            idom.html.div(\n",
    "                [Block(\"white\", block_size) for i in range(grid_size)],\n",
    "                style={\"height\": block_size},\n",
    "            )\n",
    "            for i in range(grid_size)\n",
    "        ],\n",
    "        style={\n",
    "            \"height\": f\"{block_size * grid_size}px\",\n",
    "            \"width\": f\"{block_size * grid_size}px\",\n",
    "        },\n",
    "        eventHandlers=idom.Events(),\n",
    "        tabIndex=-1,\n",
    "    )\n",
    "\n",
    "\n",
    "@idom.element(state=\"block_size\")\n",
    "async def Block(self, color, block_size):\n",
    "    return idom.html.div(\n",
    "        style={\n",
    "            \"height\": f\"{block_size}px\",\n",
    "            \"width\": f\"{block_size}px\",\n",
    "            \"backgroundColor\": color,\n",
    "            \"display\": \"inline-block\",\n",
    "            \"border\": \"1px solid white\",\n",
    "        }\n",
    "    )\n",
    "\n",
    "\n",
    "def get_grid_block(grid, point):\n",
    "    x, y = point\n",
    "    return grid[\"children\"][x][\"children\"][y]\n"
   ]
  },
  {
   "cell_type": "code",
   "execution_count": null,
   "metadata": {},
   "outputs": [],
   "source": [
    "print(\"Click to start playing 🎮\")\n",
    "print()\n",
    "print(\"Slow internet may cause inconsistent frame pacing 😅\")\n",
    "\n",
    "show(Game, 10, 40)\n",
    "\n",
    "idom.display(\"jupyter\", websocket_url)"
   ]
  },
  {
   "cell_type": "code",
   "execution_count": null,
   "metadata": {},
   "outputs": [],
   "source": []
  }
 ],
 "metadata": {
  "kernelspec": {
   "display_name": "Python 3",
   "language": "python",
   "name": "python3"
  },
  "language_info": {
   "codemirror_mode": {
    "name": "ipython",
    "version": 3
   },
   "file_extension": ".py",
   "mimetype": "text/x-python",
   "name": "python",
   "nbconvert_exporter": "python",
   "pygments_lexer": "ipython3",
   "version": "3.6.8"
  }
 },
 "nbformat": 4,
 "nbformat_minor": 2
}
