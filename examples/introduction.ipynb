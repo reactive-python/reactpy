{
 "cells": [
  {
   "cell_type": "code",
   "execution_count": null,
   "metadata": {},
   "outputs": [],
   "source": [
    "import idom"
   ]
  },
  {
   "cell_type": "code",
   "execution_count": null,
   "metadata": {},
   "outputs": [],
   "source": [
    "from example_utils import localhost\n",
    "\n",
    "webpage_url = localhost('http', 8765) + '/idom/client/index.html'\n",
    "websocket_url = localhost('ws', 8765) + '/idom/stream'\n",
    "\n",
    "print('Get a webpage that streams layout updates via a websocket:')\n",
    "print(webpage_url)\n",
    "print()\n",
    "print('Websockets use this route to stream layout updates:')\n",
    "print(websocket_url)"
   ]
  },
  {
   "cell_type": "code",
   "execution_count": null,
   "metadata": {},
   "outputs": [],
   "source": [
    "import idom\n",
    "\n",
    "@idom.element\n",
    "async def Slideshow(self, index=0):\n",
    "    events = idom.Events()\n",
    "\n",
    "    @events.on(\"click\")\n",
    "    def change():\n",
    "        self.update(index + 1)\n",
    "\n",
    "    url = f\"https://picsum.photos/800/300?image={index}\"\n",
    "    return idom.node(\"img\", src=url, eventHandlers=events)\n",
    "\n",
    "idom.SimpleServer(Slideshow).daemon(\"0.0.0.0\", 8765)"
   ]
  },
  {
   "cell_type": "code",
   "execution_count": null,
   "metadata": {},
   "outputs": [],
   "source": [
    "idom.display(\"jupyter\", websocket_url)"
   ]
  },
  {
   "cell_type": "code",
   "execution_count": null,
   "metadata": {},
   "outputs": [],
   "source": []
  }
 ],
 "metadata": {
  "kernelspec": {
   "display_name": "Python 3",
   "language": "python",
   "name": "python3"
  },
  "language_info": {
   "codemirror_mode": {
    "name": "ipython",
    "version": 3
   },
   "file_extension": ".py",
   "mimetype": "text/x-python",
   "name": "python",
   "nbconvert_exporter": "python",
   "pygments_lexer": "ipython3",
   "version": "3.7.1"
  }
 },
 "nbformat": 4,
 "nbformat_minor": 2
}
