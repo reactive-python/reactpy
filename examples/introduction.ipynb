{
 "cells": [
  {
   "cell_type": "markdown",
   "metadata": {},
   "source": [
    "# A Simple Slideshow\n",
    "\n",
    "Let's use iDOM to create a simple slideshow which changes whenever a user clicks an image."
   ]
  },
  {
   "cell_type": "code",
   "execution_count": null,
   "metadata": {},
   "outputs": [],
   "source": [
    "import idom"
   ]
  },
  {
   "cell_type": "markdown",
   "metadata": {},
   "source": [
    "## Some Little Set Up\n",
    "\n",
    "Since you may be running this notebook on [mybinder.org](https://mybinder.org) we have to do a little bit of work to make sure that your frontend view connects to the right URL. You shouldn't have to change anything here. Be sure to [post an issue](https://github.com/rmorshea/idom/issues) if you experience any problems. "
   ]
  },
  {
   "cell_type": "code",
   "execution_count": null,
   "metadata": {},
   "outputs": [],
   "source": [
    "from example_utils import localhost, pretty_dict_string\n",
    "\n",
    "webpage_url = localhost('http', 8765) + '/idom/client/index.html'\n",
    "websocket_url = localhost('ws', 8765) + '/idom/stream'\n",
    "\n",
    "print('Get a webpage that streams layout updates via a websocket:')\n",
    "print(webpage_url)\n",
    "print()\n",
    "print('Websockets use this route to stream layout updates:')\n",
    "print(websocket_url)"
   ]
  },
  {
   "cell_type": "markdown",
   "metadata": {},
   "source": [
    "# The Code"
   ]
  },
  {
   "cell_type": "code",
   "execution_count": null,
   "metadata": {},
   "outputs": [],
   "source": [
    "@idom.element\n",
    "async def Slideshow(self, index=0):\n",
    "    events = idom.Events()\n",
    "\n",
    "    @events.on(\"click\")\n",
    "    async def change():\n",
    "        self.update(index + 1)\n",
    "\n",
    "    url = f\"https://picsum.photos/800/300?image={index}\"\n",
    "    return idom.node(\"img\", src=url, eventHandlers=events)\n",
    "\n",
    "\n",
    "print(f\"TRY IT OUT HERE TOO: {webpage_url}\\n\")\n",
    "\n",
    "idom.SimpleServer(Slideshow).daemon(\"0.0.0.0\", 8765, access_log=False)"
   ]
  },
  {
   "cell_type": "markdown",
   "metadata": {},
   "source": [
    "# Try it Out!\n",
    "\n",
    "Just click the image to move the slideshow forward."
   ]
  },
  {
   "cell_type": "code",
   "execution_count": null,
   "metadata": {},
   "outputs": [],
   "source": [
    "idom.display(\"jupyter\", websocket_url)"
   ]
  },
  {
   "cell_type": "markdown",
   "metadata": {},
   "source": [
    "# What Just Happened?\n",
    "\n",
    "It looks like magic, but at the core of iDOM are simple dictionary structures that model an HTML layout.\n",
    "\n",
    "To help you understand what's happening let's see what this dictionary model looks like:"
   ]
  },
  {
   "cell_type": "code",
   "execution_count": null,
   "metadata": {},
   "outputs": [],
   "source": [
    "slideshow = Slideshow()\n",
    "model = await slideshow.render()\n",
    "print(pretty_dict_string(model))"
   ]
  },
  {
   "cell_type": "markdown",
   "metadata": {},
   "source": [
    "This will render the following HTML\n",
    "\n",
    "```html\n",
    "<img src='https://picsum.photos/800/300?image={index}' onClick={slideshow-change-callback}/>\n",
    "```\n",
    "\n",
    "Where each time the user clicks the rendered image:\n",
    "\n",
    "1. The `slideshow-change-callback` is triggered and calls `change()`\n",
    "\n",
    "2. The `change()` function then tells the `Slideshow` element to update with a new `{index}`.\n",
    "\n",
    "3. A new image is rendered for the user with the updated `src` index."
   ]
  },
  {
   "cell_type": "code",
   "execution_count": null,
   "metadata": {},
   "outputs": [],
   "source": []
  }
 ],
 "metadata": {
  "kernelspec": {
   "display_name": "Python 3",
   "language": "python",
   "name": "python3"
  },
  "language_info": {
   "codemirror_mode": {
    "name": "ipython",
    "version": 3
   },
   "file_extension": ".py",
   "mimetype": "text/x-python",
   "name": "python",
   "nbconvert_exporter": "python",
   "pygments_lexer": "ipython3",
   "version": "3.6.8"
  }
 },
 "nbformat": 4,
 "nbformat_minor": 2
}
