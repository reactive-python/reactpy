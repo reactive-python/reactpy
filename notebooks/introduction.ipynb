{
 "cells": [
  {
   "cell_type": "markdown",
   "metadata": {},
   "source": [
    "# IDOM - A Brief Introduction\n",
    "\n",
    "IDOM is an easily installable and powerful Python package for:\n",
    "\n",
    "- Making responsive user interfaces with pure Python\n",
    "\n",
    "- Doing so with a declarative decorator-based API\n",
    "\n",
    "- And rendering those layouts on the web or in Jupyter Notebooks\n",
    "\n",
    "\n",
    "# This Notebook\n",
    "\n",
    "Shows a basic example which is [explained in more depth](https://idom-docs.herokuapp.com/docs/getting-started.html) in IDOM's documentation where you can also find [more examples](https://idom-docs.herokuapp.com/docs/examples.html).\n",
    "\n",
    "\n",
    "## Where Can You Learn More?\n",
    "\n",
    "Go to https://idom-docs.herokuapp.com/ for:\n",
    "\n",
    "- more documentation\n",
    "\n",
    "- installation instructions\n",
    "\n",
    "For trouble shooting/support:\n",
    "\n",
    "- https://github.com/idom-team/idom/issues/new/choose\n"
   ]
  },
  {
   "cell_type": "code",
   "execution_count": 1,
   "metadata": {},
   "outputs": [
    {
     "name": "stdout",
     "output_type": "stream",
     "text": [
      "[2020-09-02 23:21:43 -0700] [981026] [INFO] Goin' Fast @ http://127.0.0.1:52023\n"
     ]
    }
   ],
   "source": [
    "from idom.widgets.jupyter import init_display\n",
    "display = init_display(\"127.0.0.1\")"
   ]
  },
  {
   "cell_type": "code",
   "execution_count": 2,
   "metadata": {},
   "outputs": [
    {
     "data": {
      "text/html": [
       "\n",
       "        <div id=\"idom-ed31de373f894e2eb34251685db8ae64\" class=\"idom-widget\"/>\n",
       "        \n",
       "        <script type=\"module\">\n",
       "            const loc = {\"host\": \"127.0.0.1:52023\", \"protocol\": \"http:\"};\n",
       "            const idom_url = \"//\" + loc.host + \"\";\n",
       "            const http_proto = loc.protocol;\n",
       "            const ws_proto = (http_proto === \"https:\") ? \"wss:\" : \"ws:\";\n",
       "            // we want to avoid making this request (in case of CORS)\n",
       "            // unless we know an IDOM server is expected to respond\n",
       "            fetch(http_proto + idom_url, {mode: \"no-cors\"}).then(rsp => {\n",
       "                import(http_proto + idom_url + \"/client/core_modules/layout.js\").then(\n",
       "                    (module) => {\n",
       "                        module.renderLayout(\n",
       "                            document.getElementById(\"idom-ed31de373f894e2eb34251685db8ae64\"),\n",
       "                            ws_proto + idom_url + \"/stream?view_id=1\"\n",
       "                        );\n",
       "                    }\n",
       "                );\n",
       "            });\n",
       "        </script>\n",
       "        \n",
       "        "
      ],
      "text/plain": [
       "JupyterDisplay({\"host\": \"127.0.0.1:52023\", \"protocol\": \"http:\"}, path='')"
      ]
     },
     "execution_count": 2,
     "metadata": {},
     "output_type": "execute_result"
    }
   ],
   "source": [
    "import idom\n",
    "\n",
    "\n",
    "@idom.element\n",
    "async def Slideshow():\n",
    "    index, set_index = idom.hooks.use_state(0)\n",
    "\n",
    "    async def next_image(event):\n",
    "        set_index(index + 1)\n",
    "\n",
    "    return idom.html.img(\n",
    "        {\n",
    "            \"src\": f\"https://picsum.photos/800/300?image={index}\",\n",
    "            \"style\": {\"cursor\": \"pointer\"},\n",
    "            \"onClick\": next_image,\n",
    "        }\n",
    "    )\n",
    "\n",
    "\n",
    "display(Slideshow)"
   ]
  }
 ],
 "metadata": {
  "kernelspec": {
   "display_name": "Python 3",
   "language": "python",
   "name": "python3"
  },
  "language_info": {
   "codemirror_mode": {
    "name": "ipython",
    "version": 3
   },
   "file_extension": ".py",
   "mimetype": "text/x-python",
   "name": "python",
   "nbconvert_exporter": "python",
   "pygments_lexer": "ipython3",
   "version": "3.8.2"
  }
 },
 "nbformat": 4,
 "nbformat_minor": 4
}
